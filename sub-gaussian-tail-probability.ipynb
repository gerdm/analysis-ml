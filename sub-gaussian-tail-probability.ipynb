{
 "cells": [
  {
   "cell_type": "markdown",
   "id": "4f10d164-b8ca-4743-b89e-cf46b9350ca2",
   "metadata": {},
   "source": [
    "# Sub-Gaussian random variables"
   ]
  },
  {
   "cell_type": "code",
   "execution_count": 1,
   "id": "0ee3e7cd-b7b1-4ebe-a0cc-2e5404ef6300",
   "metadata": {
    "tags": []
   },
   "outputs": [],
   "source": [
    "import jax\n",
    "import jax.numpy as jnp\n",
    "import matplotlib.pyplot as plt"
   ]
  },
  {
   "cell_type": "code",
   "execution_count": 4,
   "id": "583a82e3-8061-4e63-870b-279b84452bc5",
   "metadata": {},
   "outputs": [],
   "source": [
    "%config InlineBackend.figure_format = \"retina\""
   ]
  },
  {
   "cell_type": "markdown",
   "id": "8985c1b3-152a-49b8-94cf-6b448e367a39",
   "metadata": {},
   "source": [
    "**Definition 2.11** (Sub-gasusian random variable)  \n",
    "A sub-Gaussian random variable $X$ has quadratic logarithmic moment generating function for all $\\lambda\\in\\mathbb{R}$\n",
    "$$\n",
    "    \\Lambda_x(\\lambda) = \\log\\mathbb{E}[\\exp(\\lambda X)] \\leq \\lambda\\mu + \\frac{\\lambda^2 b}{2}\n",
    "$$\n",
    "for $b > 0$ and $\\mu = \\mathbb{E}[X]$.\n",
    "\n",
    "\n",
    "**Theorem 2.12** (General bound for sub-Gaussian random variables)  \n",
    "If $X$ is sub-Gaussian, then for all $t > 0$\n",
    "\n",
    "$$\n",
    "\\begin{aligned}\n",
    "    \\text{Pr}\\left(\\bar{X}_N \\geq \\mu + \\sqrt{\\frac{2 b t}{N}} \\right) &\\leq \\exp(-t)\\\\\n",
    "    \\text{Pr}\\left(\\bar{X}_N \\leq \\mu - \\sqrt{\\frac{2 b t}{N}} \\right) & \\leq \\exp(-t)\n",
    "\\end{aligned}\n",
    "$$"
   ]
  },
  {
   "cell_type": "markdown",
   "id": "0447da98-e0cc-49ee-bb7f-66f07c3fee1a",
   "metadata": {},
   "source": [
    "## Gaussian distribution\n",
    "A Gaussian random variable $X\\sim{\\cal N}(\\mu, \\sigma^2)$ is sub-Gaussian with $b = \\sigma^2$."
   ]
  },
  {
   "cell_type": "code",
   "execution_count": null,
   "id": "0a139156-c160-49dd-8385-fba39c975315",
   "metadata": {},
   "outputs": [],
   "source": []
  }
 ],
 "metadata": {
  "kernelspec": {
   "display_name": "Python 3 (ipykernel)",
   "language": "python",
   "name": "python3"
  },
  "language_info": {
   "codemirror_mode": {
    "name": "ipython",
    "version": 3
   },
   "file_extension": ".py",
   "mimetype": "text/x-python",
   "name": "python",
   "nbconvert_exporter": "python",
   "pygments_lexer": "ipython3",
   "version": "3.10.12"
  }
 },
 "nbformat": 4,
 "nbformat_minor": 5
}
